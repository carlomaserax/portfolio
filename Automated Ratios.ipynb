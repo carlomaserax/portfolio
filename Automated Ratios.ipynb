{
 "cells": [
  {
   "cell_type": "code",
   "execution_count": 1,
   "metadata": {},
   "outputs": [],
   "source": [
    "import pandas as pd\n",
    "import numpy as np\n",
    "import matplotlib.pyplot as plt\n",
    "%matplotlib inline\n",
    "from pandas_datareader import data as wb\n",
    "import datetime\n",
    "import plotly\n",
    "import plotly.plotly as py\n",
    "import plotly.graph_objs as go"
   ]
  },
  {
   "cell_type": "code",
   "execution_count": 2,
   "metadata": {},
   "outputs": [],
   "source": [
    "stocks = ['VISA', 'MasterCard', 'PayPal']\n",
    "names = ['Basic EPS (TTM)','Sales per Share (TTM)','Book Value per Share (TTM)','Price to Earnings Ratio (TTM)','Price to Sales Ratio (TTM)','Price to Book Value (TTM)','EV/EBITDA (TTM)','EV/Sales (TTM)','Current Ratio (TTM)','Liabilities to Equity Ratio (TTM)','Debt to Assets Ratio (TTM)']\n",
    "df = pd.DataFrame(names)\n",
    "df.set_index(0, inplace=True)\n",
    "df.index.names = ['Metric']\n"
   ]
  },
  {
   "cell_type": "code",
   "execution_count": 3,
   "metadata": {},
   "outputs": [],
   "source": [
    "vs_GEN = pd.read_excel(\"/Users/carlomasera/Documents/PERSONAL FINANCE/Valuations/Credit Card/VISA/VS General & Ratios.xlsx\")\n",
    "vs_GEN = vs_GEN.iloc[+2:,1:]\n",
    "vs_GEN.columns = vs_GEN.iloc[0]\n",
    "vs_GEN.set_index(\"Common name of company\", inplace = True)\n",
    "vs_GEN = vs_GEN.T"
   ]
  },
  {
   "cell_type": "code",
   "execution_count": 4,
   "metadata": {},
   "outputs": [],
   "source": [
    "df_vs = pd.DataFrame([vs_GEN['Basic EPS (TTM)'], vs_GEN['Sales per Share (TTM)'], vs_GEN['Book Value per Share (TTM)'],vs_GEN['Price to Earnings Ratio (TTM)'], vs_GEN['Price to Sales Ratio (TTM)'],vs_GEN['Price to Book Value (TTM)'], vs_GEN['EV/EBITDA (TTM)'], vs_GEN['EV/Sales (TTM)'], vs_GEN['Current Ratio (TTM)'],vs_GEN['Liabilities to Equity Ratio (TTM)'], vs_GEN['Debt to Assets Ratio (TTM)']])\n",
    "df_vs = round(df_vs,2)"
   ]
  },
  {
   "cell_type": "code",
   "execution_count": 5,
   "metadata": {},
   "outputs": [
    {
     "data": {
      "text/html": [
       "<div>\n",
       "<style scoped>\n",
       "    .dataframe tbody tr th:only-of-type {\n",
       "        vertical-align: middle;\n",
       "    }\n",
       "\n",
       "    .dataframe tbody tr th {\n",
       "        vertical-align: top;\n",
       "    }\n",
       "\n",
       "    .dataframe thead th {\n",
       "        text-align: right;\n",
       "    }\n",
       "</style>\n",
       "<table border=\"1\" class=\"dataframe\">\n",
       "  <thead>\n",
       "    <tr style=\"text-align: right;\">\n",
       "      <th>2</th>\n",
       "      <th>VISA INC.</th>\n",
       "    </tr>\n",
       "  </thead>\n",
       "  <tbody>\n",
       "    <tr>\n",
       "      <td>Basic EPS (TTM)</td>\n",
       "      <td>5.67</td>\n",
       "    </tr>\n",
       "    <tr>\n",
       "      <td>Sales per Share (TTM)</td>\n",
       "      <td>10.78</td>\n",
       "    </tr>\n",
       "    <tr>\n",
       "      <td>Book Value per Share (TTM)</td>\n",
       "      <td>13.74</td>\n",
       "    </tr>\n",
       "    <tr>\n",
       "      <td>Price to Earnings Ratio (TTM)</td>\n",
       "      <td>28.52</td>\n",
       "    </tr>\n",
       "    <tr>\n",
       "      <td>Price to Sales Ratio (TTM)</td>\n",
       "      <td>15.00</td>\n",
       "    </tr>\n",
       "    <tr>\n",
       "      <td>Price to Book Value (TTM)</td>\n",
       "      <td>9.96</td>\n",
       "    </tr>\n",
       "    <tr>\n",
       "      <td>EV/EBITDA (TTM)</td>\n",
       "      <td>20.28</td>\n",
       "    </tr>\n",
       "    <tr>\n",
       "      <td>EV/Sales (TTM)</td>\n",
       "      <td>14.11</td>\n",
       "    </tr>\n",
       "    <tr>\n",
       "      <td>Current Ratio (TTM)</td>\n",
       "      <td>1.27</td>\n",
       "    </tr>\n",
       "    <tr>\n",
       "      <td>Liabilities to Equity Ratio (TTM)</td>\n",
       "      <td>1.11</td>\n",
       "    </tr>\n",
       "    <tr>\n",
       "      <td>Debt to Assets Ratio (TTM)</td>\n",
       "      <td>0.22</td>\n",
       "    </tr>\n",
       "  </tbody>\n",
       "</table>\n",
       "</div>"
      ],
      "text/plain": [
       "2                                  VISA INC.\n",
       "Basic EPS (TTM)                         5.67\n",
       "Sales per Share (TTM)                  10.78\n",
       "Book Value per Share (TTM)             13.74\n",
       "Price to Earnings Ratio (TTM)          28.52\n",
       "Price to Sales Ratio (TTM)             15.00\n",
       "Price to Book Value (TTM)               9.96\n",
       "EV/EBITDA (TTM)                        20.28\n",
       "EV/Sales (TTM)                         14.11\n",
       "Current Ratio (TTM)                     1.27\n",
       "Liabilities to Equity Ratio (TTM)       1.11\n",
       "Debt to Assets Ratio (TTM)              0.22"
      ]
     },
     "execution_count": 5,
     "metadata": {},
     "output_type": "execute_result"
    }
   ],
   "source": [
    "df_vs"
   ]
  },
  {
   "cell_type": "code",
   "execution_count": 6,
   "metadata": {},
   "outputs": [],
   "source": [
    "mc_GEN = pd.read_excel(\"/Users/carlomasera/Documents/PERSONAL FINANCE/Valuations/Credit Card/MasterCard/MC General & Ratios.xlsx\")\n",
    "mc_GEN = mc_GEN.iloc[+2:,1:]\n",
    "mc_GEN.columns = mc_GEN.iloc[0]\n",
    "mc_GEN.set_index(\"Common name of company\", inplace = True)\n",
    "mc_GEN = mc_GEN.T"
   ]
  },
  {
   "cell_type": "code",
   "execution_count": 7,
   "metadata": {},
   "outputs": [],
   "source": [
    "df_mc = pd.DataFrame([mc_GEN['Basic EPS (TTM)'], mc_GEN['Sales per Share (TTM)'], mc_GEN['Book Value per Share (TTM)'],mc_GEN['Price to Earnings Ratio (TTM)'], mc_GEN['Price to Sales Ratio (TTM)'],mc_GEN['Price to Book Value (TTM)'], mc_GEN['EV/EBITDA (TTM)'], mc_GEN['EV/Sales (TTM)'], mc_GEN['Current Ratio (TTM)'],mc_GEN['Liabilities to Equity Ratio (TTM)'], mc_GEN['Debt to Assets Ratio (TTM)']])\n",
    "df_mc = round(df_mc,2)"
   ]
  },
  {
   "cell_type": "code",
   "execution_count": 8,
   "metadata": {},
   "outputs": [
    {
     "data": {
      "text/html": [
       "<div>\n",
       "<style scoped>\n",
       "    .dataframe tbody tr th:only-of-type {\n",
       "        vertical-align: middle;\n",
       "    }\n",
       "\n",
       "    .dataframe tbody tr th {\n",
       "        vertical-align: top;\n",
       "    }\n",
       "\n",
       "    .dataframe thead th {\n",
       "        text-align: right;\n",
       "    }\n",
       "</style>\n",
       "<table border=\"1\" class=\"dataframe\">\n",
       "  <thead>\n",
       "    <tr style=\"text-align: right;\">\n",
       "      <th>2</th>\n",
       "      <th>Mastercard Inc</th>\n",
       "    </tr>\n",
       "  </thead>\n",
       "  <tbody>\n",
       "    <tr>\n",
       "      <td>Basic EPS (TTM)</td>\n",
       "      <td>7.98</td>\n",
       "    </tr>\n",
       "    <tr>\n",
       "      <td>Sales per Share (TTM)</td>\n",
       "      <td>16.60</td>\n",
       "    </tr>\n",
       "    <tr>\n",
       "      <td>Book Value per Share (TTM)</td>\n",
       "      <td>5.79</td>\n",
       "    </tr>\n",
       "    <tr>\n",
       "      <td>Price to Earnings Ratio (TTM)</td>\n",
       "      <td>26.49</td>\n",
       "    </tr>\n",
       "    <tr>\n",
       "      <td>Price to Sales Ratio (TTM)</td>\n",
       "      <td>12.74</td>\n",
       "    </tr>\n",
       "    <tr>\n",
       "      <td>Price to Book Value (TTM)</td>\n",
       "      <td>35.89</td>\n",
       "    </tr>\n",
       "    <tr>\n",
       "      <td>EV/EBITDA (TTM)</td>\n",
       "      <td>21.57</td>\n",
       "    </tr>\n",
       "    <tr>\n",
       "      <td>EV/Sales (TTM)</td>\n",
       "      <td>13.01</td>\n",
       "    </tr>\n",
       "    <tr>\n",
       "      <td>Current Ratio (TTM)</td>\n",
       "      <td>1.42</td>\n",
       "    </tr>\n",
       "    <tr>\n",
       "      <td>Liabilities to Equity Ratio (TTM)</td>\n",
       "      <td>3.88</td>\n",
       "    </tr>\n",
       "    <tr>\n",
       "      <td>Debt to Assets Ratio (TTM)</td>\n",
       "      <td>0.29</td>\n",
       "    </tr>\n",
       "  </tbody>\n",
       "</table>\n",
       "</div>"
      ],
      "text/plain": [
       "2                                  Mastercard Inc\n",
       "Basic EPS (TTM)                              7.98\n",
       "Sales per Share (TTM)                       16.60\n",
       "Book Value per Share (TTM)                   5.79\n",
       "Price to Earnings Ratio (TTM)               26.49\n",
       "Price to Sales Ratio (TTM)                  12.74\n",
       "Price to Book Value (TTM)                   35.89\n",
       "EV/EBITDA (TTM)                             21.57\n",
       "EV/Sales (TTM)                              13.01\n",
       "Current Ratio (TTM)                          1.42\n",
       "Liabilities to Equity Ratio (TTM)            3.88\n",
       "Debt to Assets Ratio (TTM)                   0.29"
      ]
     },
     "execution_count": 8,
     "metadata": {},
     "output_type": "execute_result"
    }
   ],
   "source": [
    "df_mc"
   ]
  },
  {
   "cell_type": "code",
   "execution_count": 9,
   "metadata": {},
   "outputs": [],
   "source": [
    "pypl_GEN = pd.read_excel(\"/Users/carlomasera/Documents/PERSONAL FINANCE/Valuations/Credit Card/PayPal/PY General & Ratios.xlsx\")\n",
    "pypl_GEN = pypl_GEN.iloc[+2:,1:]\n",
    "pypl_GEN.columns = pypl_GEN.iloc[0]\n",
    "pypl_GEN.set_index(\"Common name of company\", inplace = True)\n",
    "pypl_GEN = pypl_GEN.T\n",
    "\n",
    "df_pypl = pd.DataFrame([pypl_GEN['Basic EPS (TTM)'], pypl_GEN['Sales per Share (TTM)'], pypl_GEN['Book Value per Share (TTM)'],pypl_GEN['Price to Earnings Ratio (TTM)'], pypl_GEN['Price to Sales Ratio (TTM)'],pypl_GEN['Price to Book Value (TTM)'], pypl_GEN['EV/EBITDA (TTM)'], pypl_GEN['EV/Sales (TTM)'], pypl_GEN['Current Ratio (TTM)'],pypl_GEN['Liabilities to Equity Ratio (TTM)'], pypl_GEN['Debt to Assets Ratio (TTM)']])"
   ]
  },
  {
   "cell_type": "code",
   "execution_count": 10,
   "metadata": {},
   "outputs": [],
   "source": [
    "df['VISA'] = df_vs"
   ]
  },
  {
   "cell_type": "code",
   "execution_count": 11,
   "metadata": {},
   "outputs": [],
   "source": [
    "df['MasterCard'] = df_mc"
   ]
  },
  {
   "cell_type": "code",
   "execution_count": 12,
   "metadata": {},
   "outputs": [],
   "source": [
    "df['PayPal'] = df_pypl"
   ]
  },
  {
   "cell_type": "code",
   "execution_count": 13,
   "metadata": {},
   "outputs": [
    {
     "data": {
      "text/html": [
       "<div>\n",
       "<style scoped>\n",
       "    .dataframe tbody tr th:only-of-type {\n",
       "        vertical-align: middle;\n",
       "    }\n",
       "\n",
       "    .dataframe tbody tr th {\n",
       "        vertical-align: top;\n",
       "    }\n",
       "\n",
       "    .dataframe thead th {\n",
       "        text-align: right;\n",
       "    }\n",
       "</style>\n",
       "<table border=\"1\" class=\"dataframe\">\n",
       "  <thead>\n",
       "    <tr style=\"text-align: right;\">\n",
       "      <th></th>\n",
       "      <th>VISA</th>\n",
       "      <th>MasterCard</th>\n",
       "      <th>PayPal</th>\n",
       "    </tr>\n",
       "    <tr>\n",
       "      <th>Metric</th>\n",
       "      <th></th>\n",
       "      <th></th>\n",
       "      <th></th>\n",
       "    </tr>\n",
       "  </thead>\n",
       "  <tbody>\n",
       "    <tr>\n",
       "      <td>Basic EPS (TTM)</td>\n",
       "      <td>5.67</td>\n",
       "      <td>7.98</td>\n",
       "      <td>2.0900</td>\n",
       "    </tr>\n",
       "    <tr>\n",
       "      <td>Sales per Share (TTM)</td>\n",
       "      <td>10.78</td>\n",
       "      <td>16.60</td>\n",
       "      <td>15.1400</td>\n",
       "    </tr>\n",
       "    <tr>\n",
       "      <td>Book Value per Share (TTM)</td>\n",
       "      <td>13.74</td>\n",
       "      <td>5.79</td>\n",
       "      <td>14.3800</td>\n",
       "    </tr>\n",
       "    <tr>\n",
       "      <td>Price to Earnings Ratio (TTM)</td>\n",
       "      <td>28.52</td>\n",
       "      <td>26.49</td>\n",
       "      <td>45.6900</td>\n",
       "    </tr>\n",
       "    <tr>\n",
       "      <td>Price to Sales Ratio (TTM)</td>\n",
       "      <td>15.00</td>\n",
       "      <td>12.74</td>\n",
       "      <td>6.3200</td>\n",
       "    </tr>\n",
       "    <tr>\n",
       "      <td>Price to Book Value (TTM)</td>\n",
       "      <td>9.96</td>\n",
       "      <td>35.89</td>\n",
       "      <td>6.6400</td>\n",
       "    </tr>\n",
       "    <tr>\n",
       "      <td>EV/EBITDA (TTM)</td>\n",
       "      <td>20.28</td>\n",
       "      <td>21.57</td>\n",
       "      <td>28.7700</td>\n",
       "    </tr>\n",
       "    <tr>\n",
       "      <td>EV/Sales (TTM)</td>\n",
       "      <td>14.11</td>\n",
       "      <td>13.01</td>\n",
       "      <td>5.9900</td>\n",
       "    </tr>\n",
       "    <tr>\n",
       "      <td>Current Ratio (TTM)</td>\n",
       "      <td>1.27</td>\n",
       "      <td>1.42</td>\n",
       "      <td>1.4300</td>\n",
       "    </tr>\n",
       "    <tr>\n",
       "      <td>Liabilities to Equity Ratio (TTM)</td>\n",
       "      <td>1.11</td>\n",
       "      <td>3.88</td>\n",
       "      <td>2.0323</td>\n",
       "    </tr>\n",
       "    <tr>\n",
       "      <td>Debt to Assets Ratio (TTM)</td>\n",
       "      <td>0.22</td>\n",
       "      <td>0.29</td>\n",
       "      <td>0.0967</td>\n",
       "    </tr>\n",
       "  </tbody>\n",
       "</table>\n",
       "</div>"
      ],
      "text/plain": [
       "                                    VISA  MasterCard   PayPal\n",
       "Metric                                                       \n",
       "Basic EPS (TTM)                     5.67        7.98   2.0900\n",
       "Sales per Share (TTM)              10.78       16.60  15.1400\n",
       "Book Value per Share (TTM)         13.74        5.79  14.3800\n",
       "Price to Earnings Ratio (TTM)      28.52       26.49  45.6900\n",
       "Price to Sales Ratio (TTM)         15.00       12.74   6.3200\n",
       "Price to Book Value (TTM)           9.96       35.89   6.6400\n",
       "EV/EBITDA (TTM)                    20.28       21.57  28.7700\n",
       "EV/Sales (TTM)                     14.11       13.01   5.9900\n",
       "Current Ratio (TTM)                 1.27        1.42   1.4300\n",
       "Liabilities to Equity Ratio (TTM)   1.11        3.88   2.0323\n",
       "Debt to Assets Ratio (TTM)          0.22        0.29   0.0967"
      ]
     },
     "execution_count": 13,
     "metadata": {},
     "output_type": "execute_result"
    }
   ],
   "source": [
    "df"
   ]
  },
  {
   "cell_type": "code",
   "execution_count": 14,
   "metadata": {
    "scrolled": false
   },
   "outputs": [
    {
     "name": "stderr",
     "output_type": "stream",
     "text": [
      "/Applications/anaconda3/lib/python3.7/site-packages/IPython/core/display.py:694: UserWarning:\n",
      "\n",
      "Consider using IPython.display.IFrame instead\n",
      "\n"
     ]
    },
    {
     "data": {
      "text/html": [
       "<iframe id=\"igraph\" scrolling=\"no\" style=\"border:none;\" seamless=\"seamless\" src=\"https://plot.ly/~Carmasera/294.embed\" height=\"525px\" width=\"100%\"></iframe>"
      ],
      "text/plain": [
       "<plotly.tools.PlotlyDisplay object>"
      ]
     },
     "execution_count": 14,
     "metadata": {},
     "output_type": "execute_result"
    }
   ],
   "source": [
    "# EPS\n",
    "data = []\n",
    "count = -1\n",
    "for n in stocks:\n",
    "    count = count + 1\n",
    "    ratio_bar = go.Bar(\n",
    "        x=[n],\n",
    "        y=df.iloc[:1][stocks[count]],\n",
    "        name=stocks[count]\n",
    "    )    \n",
    "    data.append(ratio_bar)\n",
    "    \n",
    "layout = go.Layout(\n",
    "    barmode='group',\n",
    "    title=\"<i>Basic Earning Per Share </i> <br><b> Ratio Analysis<b>\",\n",
    "    yaxis=dict(\n",
    "        title='EPS',\n",
    "    ),\n",
    "    xaxis=dict(\n",
    "        title='Company',\n",
    "    ),\n",
    ")\n",
    "\n",
    "\n",
    "fig_bs = go.Figure(data=data, layout=layout)\n",
    "py.iplot(fig_bs)"
   ]
  },
  {
   "cell_type": "code",
   "execution_count": 15,
   "metadata": {
    "scrolled": false
   },
   "outputs": [
    {
     "data": {
      "text/html": [
       "<iframe id=\"igraph\" scrolling=\"no\" style=\"border:none;\" seamless=\"seamless\" src=\"https://plot.ly/~Carmasera/296.embed\" height=\"525px\" width=\"100%\"></iframe>"
      ],
      "text/plain": [
       "<plotly.tools.PlotlyDisplay object>"
      ]
     },
     "execution_count": 15,
     "metadata": {},
     "output_type": "execute_result"
    }
   ],
   "source": [
    "# PE\n",
    "data = []\n",
    "count = -1\n",
    "for n in stocks:\n",
    "    count = count + 1\n",
    "    ratio_bar = go.Bar(\n",
    "        x=[n],\n",
    "        y=df.iloc[3:4][stocks[count]],\n",
    "        name=stocks[count]\n",
    "    )    \n",
    "    data.append(ratio_bar)\n",
    "    \n",
    "layout = go.Layout(\n",
    "    barmode='group',\n",
    "    title=\"<i>Price to Earnings Ratio</i> <br><b> Ratio Analysis<b>\",\n",
    "    yaxis=dict(\n",
    "        title='PE',\n",
    "    ),\n",
    "    xaxis=dict(\n",
    "        title='Company',\n",
    "    ),\n",
    ")\n",
    "\n",
    "\n",
    "fig_bs = go.Figure(data=data, layout=layout)\n",
    "py.iplot(fig_bs)"
   ]
  },
  {
   "cell_type": "code",
   "execution_count": 16,
   "metadata": {},
   "outputs": [
    {
     "data": {
      "text/html": [
       "<iframe id=\"igraph\" scrolling=\"no\" style=\"border:none;\" seamless=\"seamless\" src=\"https://plot.ly/~Carmasera/298.embed\" height=\"525px\" width=\"100%\"></iframe>"
      ],
      "text/plain": [
       "<plotly.tools.PlotlyDisplay object>"
      ]
     },
     "execution_count": 16,
     "metadata": {},
     "output_type": "execute_result"
    }
   ],
   "source": [
    "# EV/EBITDA\n",
    "data = []\n",
    "count = -1\n",
    "for n in stocks:\n",
    "    count = count + 1\n",
    "    ratio_bar = go.Bar(\n",
    "        x=[n],\n",
    "        y=df.iloc[6:7][stocks[count]],\n",
    "        name=stocks[count]\n",
    "    )    \n",
    "    data.append(ratio_bar)\n",
    "    \n",
    "layout = go.Layout(\n",
    "    barmode='group',\n",
    "    title=\"<i>Enterprise Value / EBITDA</i> <br><b> Ratio Analysis<b>\",\n",
    "    yaxis=dict(\n",
    "        title='EV/EBITDA',\n",
    "    ),\n",
    "    xaxis=dict(\n",
    "        title='Company',\n",
    "    ),\n",
    ")\n",
    "\n",
    "\n",
    "fig_bs = go.Figure(data=data, layout=layout)\n",
    "py.iplot(fig_bs)"
   ]
  },
  {
   "cell_type": "code",
   "execution_count": 17,
   "metadata": {},
   "outputs": [
    {
     "data": {
      "text/html": [
       "<iframe id=\"igraph\" scrolling=\"no\" style=\"border:none;\" seamless=\"seamless\" src=\"https://plot.ly/~Carmasera/300.embed\" height=\"525px\" width=\"100%\"></iframe>"
      ],
      "text/plain": [
       "<plotly.tools.PlotlyDisplay object>"
      ]
     },
     "execution_count": 17,
     "metadata": {},
     "output_type": "execute_result"
    }
   ],
   "source": [
    "# PRICE/BOOK VALUE\n",
    "data = []\n",
    "count = -1\n",
    "for n in stocks:\n",
    "    count = count + 1\n",
    "    ratio_bar = go.Bar(\n",
    "        x=[n],\n",
    "        y=df.iloc[5:6][stocks[count]],\n",
    "        name=stocks[count]\n",
    "    )    \n",
    "    data.append(ratio_bar)\n",
    "    \n",
    "layout = go.Layout(\n",
    "    barmode='group',\n",
    "    title=\"<i>Price / Book Value</i> <br><b> Ratio Analysis<b>\",\n",
    "    yaxis=dict(\n",
    "        title='PBV',\n",
    "    ),\n",
    "    xaxis=dict(\n",
    "        title='Company',\n",
    "    ),\n",
    ")\n",
    "\n",
    "\n",
    "fig_bs = go.Figure(data=data, layout=layout)\n",
    "py.iplot(fig_bs)"
   ]
  },
  {
   "cell_type": "code",
   "execution_count": null,
   "metadata": {},
   "outputs": [],
   "source": []
  }
 ],
 "metadata": {
  "kernelspec": {
   "display_name": "Python 3",
   "language": "python",
   "name": "python3"
  },
  "language_info": {
   "codemirror_mode": {
    "name": "ipython",
    "version": 3
   },
   "file_extension": ".py",
   "mimetype": "text/x-python",
   "name": "python",
   "nbconvert_exporter": "python",
   "pygments_lexer": "ipython3",
   "version": "3.7.4"
  }
 },
 "nbformat": 4,
 "nbformat_minor": 2
}
