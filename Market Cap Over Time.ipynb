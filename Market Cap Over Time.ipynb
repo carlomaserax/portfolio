{
 "cells": [
  {
   "cell_type": "code",
   "execution_count": 1,
   "metadata": {},
   "outputs": [],
   "source": [
    "import pandas as pd\n",
    "import numpy as np\n",
    "import matplotlib.pyplot as plt\n",
    "%matplotlib inline\n",
    "from pandas_datareader import data as wb\n",
    "from datetime import date, timedelta\n",
    "import datetime\n",
    "import plotly\n",
    "import plotly.plotly as py\n",
    "import plotly.graph_objs as go\n",
    "plotly.tools.set_credentials_file(username='Carlmasera', api_key='uYbtzQUuMaVtMKNj1xob')"
   ]
  },
  {
   "cell_type": "code",
   "execution_count": 2,
   "metadata": {},
   "outputs": [],
   "source": [
    "# Average Shares Outstanding\n",
    "mc_nosh = 1017\n",
    "vs_nosh = 2181.5\n",
    "pypl_nosh = 1174\n",
    "ax_nosh = 828"
   ]
  },
  {
   "cell_type": "code",
   "execution_count": 3,
   "metadata": {},
   "outputs": [],
   "source": [
    "# Get StOck Data, Since Dec 2010\n",
    "tickers = ['MA','V', 'PYPL', 'AXP']\n",
    "\n",
    "current_date = date.today()\n",
    "new_date = current_date - timedelta(days=3425)\n",
    "mydata = pd.DataFrame()\n",
    "recent_date = current_date - timedelta(days=1)\n",
    "\n",
    "for t in tickers:\n",
    "    mydata[t] = wb.DataReader(t, data_source='yahoo', start=new_date)['Adj Close']\n",
    "\n",
    "# Parse data as datetime\n",
    "\n",
    "mydata_index = []\n",
    "for x in mydata.index:\n",
    "    y = x.strftime(\"%Y-%m-%d\")\n",
    "    mydata_index.append(y)"
   ]
  },
  {
   "cell_type": "code",
   "execution_count": 4,
   "metadata": {},
   "outputs": [],
   "source": [
    "# Organize stock data in DataFrame\n",
    "df = pd.DataFrame(mydata_index)\n",
    "df['Visa Stock Price'] = mydata['V'].values\n",
    "df['Mastercard Stock Price'] = mydata['MA'].values\n",
    "df['PayPal Stock Price'] = mydata['PYPL'].values\n",
    "df['American Express Stock Price'] = mydata['AXP'].values\n",
    "df.set_index(0, inplace=True)\n",
    "df.index.names = ['Date']\n",
    "df.fillna(1, inplace=True)"
   ]
  },
  {
   "cell_type": "code",
   "execution_count": 5,
   "metadata": {},
   "outputs": [],
   "source": [
    "dates = ['2014-12-19', '2015-12-21', '2016-12-19', '2017-12-19', '2018-12-19', '2019-12-19']"
   ]
  },
  {
   "cell_type": "code",
   "execution_count": 6,
   "metadata": {},
   "outputs": [],
   "source": [
    "# Price-date picking\n",
    "c1 = []\n",
    "count = 0\n",
    "for d in dates:\n",
    "    fy = df.T[dates[count]]['Visa Stock Price']\n",
    "    count = count + 1\n",
    "    c1.append(fy)\n",
    "c2 = []\n",
    "count = 0\n",
    "for d in dates:\n",
    "    fy = df.T[dates[count]]['Mastercard Stock Price']\n",
    "    count = count + 1\n",
    "    c2.append(fy)\n",
    "c3 = []\n",
    "count = 0\n",
    "for d in dates:\n",
    "    fy = df.T[dates[count]]['PayPal Stock Price']\n",
    "    count = count + 1\n",
    "    c3.append(fy)\n",
    "    \n",
    "c4 = []\n",
    "count = 0\n",
    "for d in dates:\n",
    "    fy = df.T[dates[count]]['American Express Stock Price']\n",
    "    count = count + 1\n",
    "    c4.append(fy)\n",
    "\n"
   ]
  },
  {
   "cell_type": "code",
   "execution_count": 7,
   "metadata": {},
   "outputs": [],
   "source": [
    "# Data-DataFrame Construction\n",
    "ratio_data = pd.DataFrame(dates)\n",
    "ratio_data.set_index(0, inplace=True)\n",
    "ratio_data.index.names = ['Date']\n",
    "# Stock\n",
    "ratio_data['Visa Stock Price'] = c1\n",
    "ratio_data['Mastercard Stock Price'] = c2\n",
    "ratio_data['PayPal Stock Price'] = c3\n",
    "ratio_data['American Express Stock Price'] = c4\n",
    "# Market Capitalization\n",
    "ratio_data['Visa Market Cap.'] = ratio_data['Visa Stock Price'] * vs_nosh\n",
    "ratio_data['Mastercard Market Cap.'] = ratio_data['Mastercard Stock Price'] * mc_nosh\n",
    "ratio_data['PayPal Market Cap.'] = ratio_data['PayPal Stock Price'] * pypl_nosh\n",
    "ratio_data['American Express Market Cap.'] = ratio_data['American Express Stock Price'] * ax_nosh"
   ]
  },
  {
   "cell_type": "code",
   "execution_count": 8,
   "metadata": {},
   "outputs": [],
   "source": [
    "vs_mkt_rec = df.T[str(recent_date)]['Visa Stock Price'] * vs_nosh\n",
    "mc_mkt_rec = df.T[str(recent_date)]['Mastercard Stock Price'] * mc_nosh\n",
    "pypl_mkt_rec = df.T[str(recent_date)]['PayPal Stock Price'] * pypl_nosh\n",
    "ax_mkt_rec = df.T[str(recent_date)]['American Express Stock Price'] * ax_nosh\n"
   ]
  },
  {
   "cell_type": "code",
   "execution_count": 9,
   "metadata": {},
   "outputs": [
    {
     "data": {
      "text/plain": [
       "174.94000244140625"
      ]
     },
     "execution_count": 9,
     "metadata": {},
     "output_type": "execute_result"
    }
   ],
   "source": [
    "df.T[str(recent_date)]['Visa Stock Price']"
   ]
  },
  {
   "cell_type": "code",
   "execution_count": 10,
   "metadata": {},
   "outputs": [],
   "source": [
    "ratio_data = ratio_data.T\n",
    "ratio_data[str(recent_date)] = [df.T[str(recent_date)]['Visa Stock Price'],df.T[str(recent_date)]['Mastercard Stock Price'], df.T[str(recent_date)]['PayPal Stock Price'], df.T[str(recent_date)]['American Express Stock Price'],vs_mkt_rec, mc_mkt_rec, pypl_mkt_rec, ax_mkt_rec]\n",
    "ratio_data = ratio_data.T\n",
    "ratio_data = ratio_data.round(2)\n"
   ]
  },
  {
   "cell_type": "code",
   "execution_count": 11,
   "metadata": {},
   "outputs": [
    {
     "data": {
      "text/html": [
       "<div>\n",
       "<style scoped>\n",
       "    .dataframe tbody tr th:only-of-type {\n",
       "        vertical-align: middle;\n",
       "    }\n",
       "\n",
       "    .dataframe tbody tr th {\n",
       "        vertical-align: top;\n",
       "    }\n",
       "\n",
       "    .dataframe thead th {\n",
       "        text-align: right;\n",
       "    }\n",
       "</style>\n",
       "<table border=\"1\" class=\"dataframe\">\n",
       "  <thead>\n",
       "    <tr style=\"text-align: right;\">\n",
       "      <th></th>\n",
       "      <th>Visa Stock Price</th>\n",
       "      <th>Mastercard Stock Price</th>\n",
       "      <th>PayPal Stock Price</th>\n",
       "      <th>American Express Stock Price</th>\n",
       "      <th>Visa Market Cap.</th>\n",
       "      <th>Mastercard Market Cap.</th>\n",
       "      <th>PayPal Market Cap.</th>\n",
       "      <th>American Express Market Cap.</th>\n",
       "    </tr>\n",
       "    <tr>\n",
       "      <th>Date</th>\n",
       "      <th></th>\n",
       "      <th></th>\n",
       "      <th></th>\n",
       "      <th></th>\n",
       "      <th></th>\n",
       "      <th></th>\n",
       "      <th></th>\n",
       "      <th></th>\n",
       "    </tr>\n",
       "  </thead>\n",
       "  <tbody>\n",
       "    <tr>\n",
       "      <td>2014-12-19</td>\n",
       "      <td>62.62</td>\n",
       "      <td>83.35</td>\n",
       "      <td>1.00</td>\n",
       "      <td>85.16</td>\n",
       "      <td>136615.68</td>\n",
       "      <td>84762.09</td>\n",
       "      <td>1174.00</td>\n",
       "      <td>70511.12</td>\n",
       "    </tr>\n",
       "    <tr>\n",
       "      <td>2015-12-21</td>\n",
       "      <td>74.80</td>\n",
       "      <td>94.24</td>\n",
       "      <td>36.08</td>\n",
       "      <td>63.57</td>\n",
       "      <td>163180.62</td>\n",
       "      <td>95840.11</td>\n",
       "      <td>42357.92</td>\n",
       "      <td>52636.32</td>\n",
       "    </tr>\n",
       "    <tr>\n",
       "      <td>2016-12-19</td>\n",
       "      <td>76.44</td>\n",
       "      <td>101.36</td>\n",
       "      <td>39.44</td>\n",
       "      <td>70.63</td>\n",
       "      <td>166744.81</td>\n",
       "      <td>103086.53</td>\n",
       "      <td>46302.56</td>\n",
       "      <td>58483.31</td>\n",
       "    </tr>\n",
       "    <tr>\n",
       "      <td>2017-12-19</td>\n",
       "      <td>110.53</td>\n",
       "      <td>149.60</td>\n",
       "      <td>74.50</td>\n",
       "      <td>95.45</td>\n",
       "      <td>241115.62</td>\n",
       "      <td>152138.44</td>\n",
       "      <td>87463.00</td>\n",
       "      <td>79034.05</td>\n",
       "    </tr>\n",
       "    <tr>\n",
       "      <td>2018-12-19</td>\n",
       "      <td>130.23</td>\n",
       "      <td>185.55</td>\n",
       "      <td>84.03</td>\n",
       "      <td>96.47</td>\n",
       "      <td>284106.52</td>\n",
       "      <td>188703.98</td>\n",
       "      <td>98651.22</td>\n",
       "      <td>79877.51</td>\n",
       "    </tr>\n",
       "    <tr>\n",
       "      <td>2019-12-19</td>\n",
       "      <td>186.27</td>\n",
       "      <td>296.67</td>\n",
       "      <td>108.88</td>\n",
       "      <td>123.71</td>\n",
       "      <td>406348.48</td>\n",
       "      <td>301718.28</td>\n",
       "      <td>127825.12</td>\n",
       "      <td>102433.22</td>\n",
       "    </tr>\n",
       "    <tr>\n",
       "      <td>2020-04-08</td>\n",
       "      <td>174.94</td>\n",
       "      <td>270.95</td>\n",
       "      <td>105.06</td>\n",
       "      <td>92.08</td>\n",
       "      <td>381631.62</td>\n",
       "      <td>275556.16</td>\n",
       "      <td>123340.44</td>\n",
       "      <td>76242.24</td>\n",
       "    </tr>\n",
       "  </tbody>\n",
       "</table>\n",
       "</div>"
      ],
      "text/plain": [
       "            Visa Stock Price  Mastercard Stock Price  PayPal Stock Price  \\\n",
       "Date                                                                       \n",
       "2014-12-19             62.62                   83.35                1.00   \n",
       "2015-12-21             74.80                   94.24               36.08   \n",
       "2016-12-19             76.44                  101.36               39.44   \n",
       "2017-12-19            110.53                  149.60               74.50   \n",
       "2018-12-19            130.23                  185.55               84.03   \n",
       "2019-12-19            186.27                  296.67              108.88   \n",
       "2020-04-08            174.94                  270.95              105.06   \n",
       "\n",
       "            American Express Stock Price  Visa Market Cap.  \\\n",
       "Date                                                         \n",
       "2014-12-19                         85.16         136615.68   \n",
       "2015-12-21                         63.57         163180.62   \n",
       "2016-12-19                         70.63         166744.81   \n",
       "2017-12-19                         95.45         241115.62   \n",
       "2018-12-19                         96.47         284106.52   \n",
       "2019-12-19                        123.71         406348.48   \n",
       "2020-04-08                         92.08         381631.62   \n",
       "\n",
       "            Mastercard Market Cap.  PayPal Market Cap.  \\\n",
       "Date                                                     \n",
       "2014-12-19                84762.09             1174.00   \n",
       "2015-12-21                95840.11            42357.92   \n",
       "2016-12-19               103086.53            46302.56   \n",
       "2017-12-19               152138.44            87463.00   \n",
       "2018-12-19               188703.98            98651.22   \n",
       "2019-12-19               301718.28           127825.12   \n",
       "2020-04-08               275556.16           123340.44   \n",
       "\n",
       "            American Express Market Cap.  \n",
       "Date                                      \n",
       "2014-12-19                      70511.12  \n",
       "2015-12-21                      52636.32  \n",
       "2016-12-19                      58483.31  \n",
       "2017-12-19                      79034.05  \n",
       "2018-12-19                      79877.51  \n",
       "2019-12-19                     102433.22  \n",
       "2020-04-08                      76242.24  "
      ]
     },
     "execution_count": 11,
     "metadata": {},
     "output_type": "execute_result"
    }
   ],
   "source": [
    "ratio_data"
   ]
  },
  {
   "cell_type": "code",
   "execution_count": 12,
   "metadata": {},
   "outputs": [],
   "source": [
    "ratio_data.to_excel('Mkt. Cap Over Time.xls')"
   ]
  },
  {
   "cell_type": "code",
   "execution_count": 13,
   "metadata": {},
   "outputs": [
    {
     "name": "stderr",
     "output_type": "stream",
     "text": [
      "/Applications/anaconda3/lib/python3.7/site-packages/IPython/core/display.py:694: UserWarning:\n",
      "\n",
      "Consider using IPython.display.IFrame instead\n",
      "\n"
     ]
    },
    {
     "data": {
      "text/html": [
       "<iframe id=\"igraph\" scrolling=\"no\" style=\"border:none;\" seamless=\"seamless\" src=\"https://plot.ly/~Carlmasera/324.embed\" height=\"525px\" width=\"100%\"></iframe>"
      ],
      "text/plain": [
       "<plotly.tools.PlotlyDisplay object>"
      ]
     },
     "execution_count": 13,
     "metadata": {},
     "output_type": "execute_result"
    }
   ],
   "source": [
    "mc_mkt = go.Scatter(\n",
    "\tx=ratio_data.index,\n",
    "\ty=ratio_data['Mastercard Market Cap.'],\n",
    "\tname='Mastercard PE/Ratio'\n",
    ")\n",
    "\n",
    "vs_mkt = go.Scatter(\n",
    "\tx=ratio_data.index,\n",
    "\ty=ratio_data['Visa Market Cap.'],\n",
    "\tname='VISA PE/Ratio'\n",
    ")\n",
    "pypl_mkt = go.Scatter(\n",
    "\tx=ratio_data.index,\n",
    "\ty=ratio_data['PayPal Market Cap.'],\n",
    "\tname='PayPal PE/Ratio'\n",
    ")\n",
    "ax_mkt = go.Scatter(\n",
    "\tx=ratio_data.index,\n",
    "\ty=ratio_data['American Express Market Cap.'],\n",
    "\tname='American Express PE/Ratio'\n",
    ")\n",
    "\n",
    "data = [mc_mkt, vs_mkt, pypl_mkt, ax_mkt]\n",
    "layout = go.Layout(\n",
    "    title=\"<i>VISA, Mastercard, PayPal, American Express, Discover Market Capitalization </i> <br><b>Over Time (2014-2019)</b> \",\n",
    "    yaxis=dict(\n",
    "        title='P/E'\n",
    "    ),\n",
    ")\n",
    "\n",
    "fig_bs = go.Figure(data=data, layout=layout)\n",
    "py.iplot(fig_bs)"
   ]
  },
  {
   "cell_type": "code",
   "execution_count": 14,
   "metadata": {},
   "outputs": [
    {
     "data": {
      "text/html": [
       "<iframe id=\"igraph\" scrolling=\"no\" style=\"border:none;\" seamless=\"seamless\" src=\"https://plot.ly/~Carlmasera/242.embed\" height=\"525px\" width=\"100%\"></iframe>"
      ],
      "text/plain": [
       "<plotly.tools.PlotlyDisplay object>"
      ]
     },
     "execution_count": 14,
     "metadata": {},
     "output_type": "execute_result"
    }
   ],
   "source": [
    "mc_mkt = go.Bar(\n",
    "\tx=[mydata_index[-1]],\n",
    "\ty=[ratio_data['Mastercard Market Cap.'].iloc[-1]],\n",
    "\tname='Mastercard Market Cap.'\n",
    ")\n",
    "\n",
    "vs_mkt = go.Bar(\n",
    "\tx=[mydata_index[-1]],\n",
    "\ty=[ratio_data['Visa Market Cap.'].iloc[-1]],\n",
    "\tname='VISA Market Cap.'\n",
    ")\n",
    "pypl_mkt = go.Bar(\n",
    "\tx=[mydata_index[-1]],\n",
    "\ty=[ratio_data['PayPal Market Cap.'].iloc[-1]],\n",
    "\tname='PayPal Market Cap.'\n",
    ")\n",
    "ax_mkt = go.Bar(\n",
    "\tx=[mydata_index[-1]],\n",
    "\ty=[ratio_data['American Express Market Cap.'].iloc[-1]],\n",
    "\tname='American Express Market Cap.'\n",
    ")\n",
    "\n",
    "data = [mc_mkt, vs_mkt, pypl_mkt, ax_mkt]\n",
    "layout = go.Layout(\n",
    "    title=\"<i>VISA, Mastercard, PayPal, American Express, Discover Market Capitalization</i> <br><b>Current</b> \",\n",
    "    yaxis=dict(\n",
    "        title='P/E'\n",
    "    ),\n",
    ")\n",
    "\n",
    "fig_bs = go.Figure(data=data, layout=layout)\n",
    "py.iplot(fig_bs)"
   ]
  },
  {
   "cell_type": "code",
   "execution_count": 15,
   "metadata": {},
   "outputs": [],
   "source": [
    "ax = pd.read_excel(\"/Users/carlomasera/Documents/PERSONAL FINANCE/Valuations/Credit Card/American Express/AX.xlsx\")\n",
    "index_PL = int(ax.loc[ax['Data provided by SimFin']=='Profit & Loss statement'].index[0])\n",
    "index_CF = int(ax.loc[ax['Data provided by SimFin']=='Cash Flow statement'].index[0])\n",
    "index_BS = int(ax.loc[ax['Data provided by SimFin']=='Balance Sheet'].index[0])\n",
    "ax_PL = ax.iloc[index_PL + 1 :index_BS -1, 1:]\n",
    "ax_PL.columns = ax_PL.iloc[0]\n",
    "ax_PL.set_index(\"in million USD\", inplace=True)\n",
    "ax_PL.fillna(0, inplace=True)\n",
    "ax_PL = ax_PL[1:]\n",
    "ax_BS = ax.iloc[index_BS + 1:index_CF -1, 1:]\n",
    "ax_BS.columns = ax_BS.iloc[0]\n",
    "ax_BS.set_index(\"in million USD\", inplace=True)\n",
    "ax_BS.fillna(0, inplace=True)\n",
    "ax_BS = ax_BS[1:]\n",
    "ax_CF = ax.iloc[index_CF+1: ,1:]\n",
    "ax_CF.columns = ax_CF.iloc[0]\n",
    "ax_CF.set_index(\"in million USD\", inplace =True)\n",
    "ax_CF.fillna(0, inplace=True)\n",
    "ax_CF = ax_CF[1:]\n",
    "ax_PL = ax_PL.T\n",
    "ax_BS = ax_BS.T\n",
    "ax_CF = ax_CF.T\n",
    "pypl = pd.read_excel(\"/Users/carlomasera/Documents/PERSONAL FINANCE/Valuations/Credit Card/PayPal/PYPL.xlsx\")\n",
    "index_PL = int(pypl.loc[pypl['Data provided by SimFin']=='Profit & Loss statement'].index[0])\n",
    "index_CF = int(pypl.loc[pypl['Data provided by SimFin']=='Cash Flow statement'].index[0])\n",
    "index_BS = int(pypl.loc[pypl['Data provided by SimFin']=='Balance Sheet'].index[0])\n",
    "pypl_PL = pypl.iloc[index_PL + 1 :index_BS -1, 1:]\n",
    "pypl_PL.columns = pypl_PL.iloc[0]\n",
    "pypl_PL.set_index('in million USD', inplace=True)\n",
    "pypl_PL.fillna(0, inplace=True)\n",
    "pypl_PL = pypl_PL[1:]\n",
    "pypl_BS = pypl.iloc[index_BS + 1 :index_CF -1, 1:]\n",
    "pypl_BS.columns = pypl_BS.iloc[0]\n",
    "pypl_BS.set_index('in million USD', inplace=True)\n",
    "pypl_BS.fillna(0, inplace=True)\n",
    "pypl_BS = pypl_BS[1:]\n",
    "pypl_CF = pypl.iloc[index_CF+1: ,1:]\n",
    "pypl_CF.columns = pypl_CF.iloc[0]\n",
    "pypl_CF.set_index('in million USD', inplace=True)\n",
    "pypl_CF.fillna(0, inplace=True)\n",
    "pypl_CF = pypl_CF[1:]\n",
    "pypl_PL = pypl_PL.T\n",
    "pypl_BS = pypl_BS.T\n",
    "pypl_CF = pypl_CF.T\n",
    "vs = pd.read_excel(\"/Users/carlomasera/Documents/PERSONAL FINANCE/Valuations/Credit Card/VISA/VZ.xlsx\")\n",
    "index_PL = int(vs.loc[vs['Data provided by SimFin']=='Profit & Loss statement'].index[0])\n",
    "index_CF = int(vs.loc[vs['Data provided by SimFin']=='Cash Flow statement'].index[0])\n",
    "index_BS = int(vs.loc[vs['Data provided by SimFin']=='Balance Sheet'].index[0])\n",
    "vs_PL = vs.iloc[index_PL + 1 :index_BS -1, 1:]\n",
    "vs_PL.columns = vs_PL.iloc[0]\n",
    "vs_PL.set_index(\"in million USD\", inplace=True)\n",
    "vs_PL.fillna(0, inplace=True)\n",
    "vs_PL = vs_PL[1:]\n",
    "vs_BS = vs.iloc[index_BS + 1:index_CF -1, 1:]\n",
    "vs_BS.columns = vs_BS.iloc[0]\n",
    "vs_BS.set_index(\"in million USD\", inplace=True)\n",
    "vs_BS.fillna(0, inplace=True)\n",
    "vs_BS = vs_BS[1:]\n",
    "vs_CF = vs.iloc[index_CF+1: ,1:]\n",
    "vs_CF.columns = vs_CF.iloc[0]\n",
    "vs_CF.set_index(\"in million USD\", inplace =True)\n",
    "vs_CF.fillna(0, inplace=True)\n",
    "vs_CF = vs_CF[1:]\n",
    "vs_PL = vs_PL.T\n",
    "vs_BS = vs_BS.T\n",
    "vs_CF = vs_CF.T\n",
    "mc = pd.read_excel(\"/Users/carlomasera/Documents/PERSONAL FINANCE/Valuations/Credit Card/MasterCard/MC.xlsx\")\n",
    "index_PL = int(mc.loc[mc['Data provided by SimFin']=='Profit & Loss statement'].index[0])\n",
    "index_CF = int(mc.loc[mc['Data provided by SimFin']=='Cash Flow statement'].index[0])\n",
    "index_BS = int(mc.loc[mc['Data provided by SimFin']=='Balance Sheet'].index[0])\n",
    "mc_PL = mc.iloc[index_PL+1:index_BS -1, 1:]\n",
    "mc_PL.columns = mc_PL.iloc[0]\n",
    "mc_PL.set_index(\"in million USD\", inplace = True)\n",
    "mc_PL.fillna(0, inplace=True)\n",
    "mc_PL = mc_PL[1:]\n",
    "mc_BS = mc.iloc[index_BS + 1:index_CF -1, 1:]\n",
    "mc_BS.columns = mc_BS.iloc[0]\n",
    "mc_BS.set_index(\"in million USD\", inplace = True)\n",
    "mc_BS.fillna(0, inplace=True)\n",
    "mc_BS = mc_BS[1:]\n",
    "mc_CF = mc.iloc[index_CF + 1:, 1:]\n",
    "mc_CF.columns = mc_CF.iloc[0]\n",
    "mc_CF.set_index(\"in million USD\", inplace=True)\n",
    "mc_CF.fillna(0, inplace=True)\n",
    "mc_CF = mc_CF[1:]\n",
    "mc_CF = mc_CF.T\n",
    "mc_BS = mc_BS.T\n",
    "mc_PL = mc_PL.T"
   ]
  },
  {
   "cell_type": "code",
   "execution_count": 16,
   "metadata": {},
   "outputs": [],
   "source": [
    "# Calculating Entreprise Value"
   ]
  },
  {
   "cell_type": "code",
   "execution_count": 17,
   "metadata": {},
   "outputs": [],
   "source": [
    "#VISA\n",
    "vs_ev = ratio_data['Visa Market Cap.'][:'2019-12-19'].values + vs_BS['Long Term Debt'].iloc[4:].values + vs_BS['Short Term Debt'].iloc[4:].values  + vs_BS['Share Capital & Additional Paid-In Capital'].iloc[4:].values + vs_BS['Minority Interest'].iloc[4:].values - vs_BS['Cash, Cash Equivalents & Short Term Investments'].iloc[4:]\n",
    "vs_ev[\"FY '20\"] = ratio_data['Visa Market Cap.'][str(recent_date)] + vs_BS['Long Term Debt'].iloc[-1] + vs_BS['Short Term Debt'].iloc[-1] + vs_BS['Share Capital & Additional Paid-In Capital'].iloc[-1] +vs_BS['Minority Interest'].iloc[-1] - vs_BS['Cash, Cash Equivalents & Short Term Investments'].iloc[-1]"
   ]
  },
  {
   "cell_type": "code",
   "execution_count": 18,
   "metadata": {},
   "outputs": [],
   "source": [
    "#Mastercard\n",
    "mc_ev = ratio_data['Mastercard Market Cap.'][:'2019-12-19'].values + mc_BS['Long Term Debt'].iloc[4:].values + mc_BS['Short Term Debt'].iloc[4:].values + mc_BS['Share Capital & Additional Paid-In Capital'].iloc[4:].values + mc_BS['Minority Interest'].iloc[4:].values - mc_BS['Cash, Cash Equivalents & Short Term Investments'].iloc[4:]\n",
    "mc_ev[\"FY '20\"] = ratio_data['Mastercard Market Cap.'][str(recent_date)] + mc_BS['Long Term Debt'].iloc[-1] + mc_BS['Short Term Debt'].iloc[-1] + mc_BS['Share Capital & Additional Paid-In Capital'].iloc[-1] +mc_BS['Minority Interest'].iloc[-1] - mc_BS['Cash, Cash Equivalents & Short Term Investments'].iloc[-1]"
   ]
  },
  {
   "cell_type": "code",
   "execution_count": 19,
   "metadata": {},
   "outputs": [],
   "source": [
    "#PayPal\n",
    "pypl_ev = ratio_data['PayPal Market Cap.'][:'2019-12-19'].values + pypl_BS['Long Term Debt'].values + pypl_BS['Share Capital & Additional Paid-In Capital'].values + pypl_BS['Minority Interest'].values - pypl_BS['Cash, Cash Equivalents & Short Term Investments']\n",
    "pypl_ev[\"FY '20'\"] = ratio_data['PayPal Market Cap.'][str(recent_date)] + pypl_BS['Long Term Debt'].iloc[-1] +  pypl_BS['Share Capital & Additional Paid-In Capital'].iloc[-1] +pypl_BS['Minority Interest'].iloc[-1] - pypl_BS['Cash, Cash Equivalents & Short Term Investments'].iloc[-1]"
   ]
  },
  {
   "cell_type": "code",
   "execution_count": 20,
   "metadata": {},
   "outputs": [],
   "source": [
    "#American Express\n",
    "ax_ev = ratio_data['American Express Market Cap.'][:'2019-12-19'].values + ax_BS['Long Term Debt'].iloc[4:].values + ax_BS['Short Term Borrowings & Repos'].iloc[4:].values + ax_BS['Share Capital & Additional Paid-In Capital'].iloc[4:].values - ax_BS['Cash & Cash Equivalents'].iloc[4:]\n",
    "ax_ev[\"FY '20\"] = ratio_data['American Express Market Cap.'][str(recent_date)] + ax_BS['Long Term Debt'].iloc[-1] + ax_BS['Short Term Borrowings & Repos'].iloc[-1] + ax_BS['Share Capital & Additional Paid-In Capital'].iloc[-1]  - ax_BS['Cash & Cash Equivalents'].iloc[-1]"
   ]
  },
  {
   "cell_type": "code",
   "execution_count": 21,
   "metadata": {},
   "outputs": [],
   "source": [
    "# Data-DataFrame Construction\n",
    "dates = ['2014-12-19', '2015-12-21', '2016-12-19', '2017-12-19', '2018-12-19', '2019-12-19', str(recent_date)]\n",
    "ev_data = pd.DataFrame(dates)\n",
    "ev_data.set_index(0, inplace=True)\n",
    "ev_data.index.names = ['Date']\n",
    "# EV\n",
    "ev_data['Visa Enterprise Value'] = vs_ev.values\n",
    "ev_data['Mastercard Enterprise Value'] = mc_ev.values\n",
    "ev_data['PayPal Enterprise Value'] = pypl_ev.values\n",
    "ev_data['American Express Enterprise Value'] = ax_ev.values"
   ]
  },
  {
   "cell_type": "code",
   "execution_count": 22,
   "metadata": {},
   "outputs": [
    {
     "data": {
      "text/html": [
       "<div>\n",
       "<style scoped>\n",
       "    .dataframe tbody tr th:only-of-type {\n",
       "        vertical-align: middle;\n",
       "    }\n",
       "\n",
       "    .dataframe tbody tr th {\n",
       "        vertical-align: top;\n",
       "    }\n",
       "\n",
       "    .dataframe thead th {\n",
       "        text-align: right;\n",
       "    }\n",
       "</style>\n",
       "<table border=\"1\" class=\"dataframe\">\n",
       "  <thead>\n",
       "    <tr style=\"text-align: right;\">\n",
       "      <th></th>\n",
       "      <th>Visa Enterprise Value</th>\n",
       "      <th>Mastercard Enterprise Value</th>\n",
       "      <th>PayPal Enterprise Value</th>\n",
       "      <th>American Express Enterprise Value</th>\n",
       "    </tr>\n",
       "    <tr>\n",
       "      <th>Date</th>\n",
       "      <th></th>\n",
       "      <th></th>\n",
       "      <th></th>\n",
       "      <th></th>\n",
       "    </tr>\n",
       "  </thead>\n",
       "  <tbody>\n",
       "    <tr>\n",
       "      <td>2014-12-19</td>\n",
       "      <td>151034</td>\n",
       "      <td>83922.2</td>\n",
       "      <td>-1056</td>\n",
       "      <td>142397</td>\n",
       "    </tr>\n",
       "    <tr>\n",
       "      <td>2015-12-21</td>\n",
       "      <td>175305</td>\n",
       "      <td>96556.3</td>\n",
       "      <td>52046.9</td>\n",
       "      <td>116116</td>\n",
       "    </tr>\n",
       "    <tr>\n",
       "      <td>2016-12-19</td>\n",
       "      <td>191121</td>\n",
       "      <td>104302</td>\n",
       "      <td>54906.6</td>\n",
       "      <td>120690</td>\n",
       "    </tr>\n",
       "    <tr>\n",
       "      <td>2017-12-19</td>\n",
       "      <td>262975</td>\n",
       "      <td>154481</td>\n",
       "      <td>96082</td>\n",
       "      <td>145350</td>\n",
       "    </tr>\n",
       "    <tr>\n",
       "      <td>2018-12-19</td>\n",
       "      <td>305797</td>\n",
       "      <td>191626</td>\n",
       "      <td>104481</td>\n",
       "      <td>150536</td>\n",
       "    </tr>\n",
       "    <tr>\n",
       "      <td>2019-12-19</td>\n",
       "      <td>427373</td>\n",
       "      <td>307921</td>\n",
       "      <td>137661</td>\n",
       "      <td>175245</td>\n",
       "    </tr>\n",
       "    <tr>\n",
       "      <td>2020-04-07</td>\n",
       "      <td>388804</td>\n",
       "      <td>269220</td>\n",
       "      <td>127565</td>\n",
       "      <td>145328</td>\n",
       "    </tr>\n",
       "  </tbody>\n",
       "</table>\n",
       "</div>"
      ],
      "text/plain": [
       "           Visa Enterprise Value Mastercard Enterprise Value  \\\n",
       "Date                                                           \n",
       "2014-12-19                151034                     83922.2   \n",
       "2015-12-21                175305                     96556.3   \n",
       "2016-12-19                191121                      104302   \n",
       "2017-12-19                262975                      154481   \n",
       "2018-12-19                305797                      191626   \n",
       "2019-12-19                427373                      307921   \n",
       "2020-04-07                388804                      269220   \n",
       "\n",
       "           PayPal Enterprise Value American Express Enterprise Value  \n",
       "Date                                                                  \n",
       "2014-12-19                   -1056                            142397  \n",
       "2015-12-21                 52046.9                            116116  \n",
       "2016-12-19                 54906.6                            120690  \n",
       "2017-12-19                   96082                            145350  \n",
       "2018-12-19                  104481                            150536  \n",
       "2019-12-19                  137661                            175245  \n",
       "2020-04-07                  127565                            145328  "
      ]
     },
     "execution_count": 22,
     "metadata": {},
     "output_type": "execute_result"
    }
   ],
   "source": [
    "ev_data"
   ]
  },
  {
   "cell_type": "code",
   "execution_count": 23,
   "metadata": {},
   "outputs": [],
   "source": [
    "ev_data.to_excel('EV Over Time.xls')"
   ]
  },
  {
   "cell_type": "code",
   "execution_count": 24,
   "metadata": {},
   "outputs": [],
   "source": [
    "# Calculating EBITDA"
   ]
  },
  {
   "cell_type": "code",
   "execution_count": 25,
   "metadata": {},
   "outputs": [],
   "source": [
    "# VISA\n",
    "vs_eb = vs_PL['Operating Income (Loss)'].iloc[4:] + vs_CF['Depreciation & Amortization'].iloc[4:]\n",
    "vs_eb[\"FY '20\"] = vs_PL['Operating Income (Loss)'].iloc[-1] + vs_CF['Depreciation & Amortization'].iloc[-1]"
   ]
  },
  {
   "cell_type": "code",
   "execution_count": 26,
   "metadata": {},
   "outputs": [],
   "source": [
    "# Mastercard\n",
    "mc_eb = mc_PL['Operating Income (Loss)'].iloc[4:] + mc_CF['Depreciation & Amortization'].iloc[4:]\n",
    "mc_eb[\"FY '20\"] = mc_PL['Operating Income (Loss)'].iloc[-1] + mc_CF['Depreciation & Amortization'].iloc[-1]"
   ]
  },
  {
   "cell_type": "code",
   "execution_count": 27,
   "metadata": {},
   "outputs": [],
   "source": [
    "# PayPal\n",
    "pypl_eb = pypl_PL['Operating Income (Loss)'] + pypl_CF['Depreciation & Amortization']\n",
    "pypl_eb[\"FY '20\"] = pypl_PL['Operating Income (Loss)'].iloc[-1] + pypl_CF['Depreciation & Amortization'].iloc[-1]"
   ]
  },
  {
   "cell_type": "code",
   "execution_count": 28,
   "metadata": {},
   "outputs": [],
   "source": [
    "# American Express\n",
    "ax_eb = ax_PL['Net Revenue after Provisions'].iloc[4:] + ax_CF['Depreciation & Amortization'].iloc[4:]\n",
    "ax_eb[\"FY '20\"] = ax_PL['Net Revenue after Provisions'].iloc[-1] + ax_CF['Depreciation & Amortization'].iloc[-1]"
   ]
  },
  {
   "cell_type": "code",
   "execution_count": 29,
   "metadata": {},
   "outputs": [
    {
     "data": {
      "text/plain": [
       "2\n",
       "FY '14    33156\n",
       "FY '15    31873\n",
       "FY '16    31188\n",
       "FY '17    35439\n",
       "FY '18    38279\n",
       "FY '19    40852\n",
       "FY '20    40852\n",
       "dtype: object"
      ]
     },
     "execution_count": 29,
     "metadata": {},
     "output_type": "execute_result"
    }
   ],
   "source": [
    "ax_eb"
   ]
  },
  {
   "cell_type": "code",
   "execution_count": 30,
   "metadata": {},
   "outputs": [],
   "source": [
    "# Data-DataFrame Construction\n",
    "dates = ['2014-12-19', '2015-12-21', '2016-12-19', '2017-12-19', '2018-12-19', '2019-12-19', str(recent_date)]\n",
    "eb_data = pd.DataFrame(dates)\n",
    "eb_data.set_index(0, inplace=True)\n",
    "eb_data.index.names = ['Date']\n",
    "# EV\n",
    "eb_data['Visa EBITDA'] = vs_eb.values\n",
    "eb_data['Mastercard EBITDA'] = mc_eb.values\n",
    "eb_data['PayPal EBITDA'] = pypl_eb.values\n",
    "eb_data['American EBITDA'] = ax_eb.values"
   ]
  },
  {
   "cell_type": "code",
   "execution_count": 31,
   "metadata": {},
   "outputs": [
    {
     "data": {
      "text/html": [
       "<div>\n",
       "<style scoped>\n",
       "    .dataframe tbody tr th:only-of-type {\n",
       "        vertical-align: middle;\n",
       "    }\n",
       "\n",
       "    .dataframe tbody tr th {\n",
       "        vertical-align: top;\n",
       "    }\n",
       "\n",
       "    .dataframe thead th {\n",
       "        text-align: right;\n",
       "    }\n",
       "</style>\n",
       "<table border=\"1\" class=\"dataframe\">\n",
       "  <thead>\n",
       "    <tr style=\"text-align: right;\">\n",
       "      <th></th>\n",
       "      <th>Visa EBITDA</th>\n",
       "      <th>Mastercard EBITDA</th>\n",
       "      <th>PayPal EBITDA</th>\n",
       "      <th>American EBITDA</th>\n",
       "    </tr>\n",
       "    <tr>\n",
       "      <th>Date</th>\n",
       "      <th></th>\n",
       "      <th></th>\n",
       "      <th></th>\n",
       "      <th></th>\n",
       "    </tr>\n",
       "  </thead>\n",
       "  <tbody>\n",
       "    <tr>\n",
       "      <td>2014-12-19</td>\n",
       "      <td>8585</td>\n",
       "      <td>5427</td>\n",
       "      <td>1784</td>\n",
       "      <td>33156</td>\n",
       "    </tr>\n",
       "    <tr>\n",
       "      <td>2015-12-21</td>\n",
       "      <td>9572</td>\n",
       "      <td>5505</td>\n",
       "      <td>2117</td>\n",
       "      <td>31873</td>\n",
       "    </tr>\n",
       "    <tr>\n",
       "      <td>2016-12-19</td>\n",
       "      <td>10264</td>\n",
       "      <td>6251</td>\n",
       "      <td>2310</td>\n",
       "      <td>31188</td>\n",
       "    </tr>\n",
       "    <tr>\n",
       "      <td>2017-12-19</td>\n",
       "      <td>12719</td>\n",
       "      <td>7074</td>\n",
       "      <td>3064</td>\n",
       "      <td>35439</td>\n",
       "    </tr>\n",
       "    <tr>\n",
       "      <td>2018-12-19</td>\n",
       "      <td>14174</td>\n",
       "      <td>8869</td>\n",
       "      <td>3279</td>\n",
       "      <td>38279</td>\n",
       "    </tr>\n",
       "    <tr>\n",
       "      <td>2019-12-19</td>\n",
       "      <td>16057</td>\n",
       "      <td>10186</td>\n",
       "      <td>3702</td>\n",
       "      <td>40852</td>\n",
       "    </tr>\n",
       "    <tr>\n",
       "      <td>2020-04-07</td>\n",
       "      <td>16057</td>\n",
       "      <td>10186</td>\n",
       "      <td>3702</td>\n",
       "      <td>40852</td>\n",
       "    </tr>\n",
       "  </tbody>\n",
       "</table>\n",
       "</div>"
      ],
      "text/plain": [
       "           Visa EBITDA Mastercard EBITDA PayPal EBITDA American EBITDA\n",
       "Date                                                                  \n",
       "2014-12-19        8585              5427          1784           33156\n",
       "2015-12-21        9572              5505          2117           31873\n",
       "2016-12-19       10264              6251          2310           31188\n",
       "2017-12-19       12719              7074          3064           35439\n",
       "2018-12-19       14174              8869          3279           38279\n",
       "2019-12-19       16057             10186          3702           40852\n",
       "2020-04-07       16057             10186          3702           40852"
      ]
     },
     "execution_count": 31,
     "metadata": {},
     "output_type": "execute_result"
    }
   ],
   "source": [
    "eb_data"
   ]
  },
  {
   "cell_type": "code",
   "execution_count": 32,
   "metadata": {},
   "outputs": [],
   "source": [
    "eb_data.to_excel('EBITDA Over Time.xls')"
   ]
  },
  {
   "cell_type": "code",
   "execution_count": 33,
   "metadata": {},
   "outputs": [],
   "source": [
    "eb_ev = pd.DataFrame(ev_data / eb_data.values)\n",
    "eb_ev.rename(columns={\"Visa Enterprise Value\": \"Visa EV/EBITDA\", \"Mastercard Enterprise Value\": \"Mastercard EV/EBITDA\", \"PayPal Enterprise Value\": \"PayPal EV/EBITDA\", \"American Express Enterprise Value\": \"American Express EV/EBITDA\"}, inplace=True)\n",
    "eb_ev = round(eb_ev, 2)"
   ]
  },
  {
   "cell_type": "code",
   "execution_count": 34,
   "metadata": {},
   "outputs": [
    {
     "data": {
      "text/html": [
       "<div>\n",
       "<style scoped>\n",
       "    .dataframe tbody tr th:only-of-type {\n",
       "        vertical-align: middle;\n",
       "    }\n",
       "\n",
       "    .dataframe tbody tr th {\n",
       "        vertical-align: top;\n",
       "    }\n",
       "\n",
       "    .dataframe thead th {\n",
       "        text-align: right;\n",
       "    }\n",
       "</style>\n",
       "<table border=\"1\" class=\"dataframe\">\n",
       "  <thead>\n",
       "    <tr style=\"text-align: right;\">\n",
       "      <th></th>\n",
       "      <th>Visa EV/EBITDA</th>\n",
       "      <th>Mastercard EV/EBITDA</th>\n",
       "      <th>PayPal EV/EBITDA</th>\n",
       "      <th>American Express EV/EBITDA</th>\n",
       "    </tr>\n",
       "    <tr>\n",
       "      <th>Date</th>\n",
       "      <th></th>\n",
       "      <th></th>\n",
       "      <th></th>\n",
       "      <th></th>\n",
       "    </tr>\n",
       "  </thead>\n",
       "  <tbody>\n",
       "    <tr>\n",
       "      <td>2014-12-19</td>\n",
       "      <td>17.5927</td>\n",
       "      <td>15.4638</td>\n",
       "      <td>-0.591928</td>\n",
       "      <td>4.29476</td>\n",
       "    </tr>\n",
       "    <tr>\n",
       "      <td>2015-12-21</td>\n",
       "      <td>18.3143</td>\n",
       "      <td>17.5397</td>\n",
       "      <td>24.5852</td>\n",
       "      <td>3.64309</td>\n",
       "    </tr>\n",
       "    <tr>\n",
       "      <td>2016-12-19</td>\n",
       "      <td>18.6205</td>\n",
       "      <td>16.6856</td>\n",
       "      <td>23.7691</td>\n",
       "      <td>3.86977</td>\n",
       "    </tr>\n",
       "    <tr>\n",
       "      <td>2017-12-19</td>\n",
       "      <td>20.6757</td>\n",
       "      <td>21.8378</td>\n",
       "      <td>31.3584</td>\n",
       "      <td>4.10142</td>\n",
       "    </tr>\n",
       "    <tr>\n",
       "      <td>2018-12-19</td>\n",
       "      <td>21.5745</td>\n",
       "      <td>21.6062</td>\n",
       "      <td>31.8637</td>\n",
       "      <td>3.93259</td>\n",
       "    </tr>\n",
       "    <tr>\n",
       "      <td>2019-12-19</td>\n",
       "      <td>26.616</td>\n",
       "      <td>30.2298</td>\n",
       "      <td>37.1856</td>\n",
       "      <td>4.28976</td>\n",
       "    </tr>\n",
       "    <tr>\n",
       "      <td>2020-04-07</td>\n",
       "      <td>24.214</td>\n",
       "      <td>26.4304</td>\n",
       "      <td>34.4583</td>\n",
       "      <td>3.55743</td>\n",
       "    </tr>\n",
       "  </tbody>\n",
       "</table>\n",
       "</div>"
      ],
      "text/plain": [
       "           Visa EV/EBITDA Mastercard EV/EBITDA PayPal EV/EBITDA  \\\n",
       "Date                                                              \n",
       "2014-12-19        17.5927              15.4638        -0.591928   \n",
       "2015-12-21        18.3143              17.5397          24.5852   \n",
       "2016-12-19        18.6205              16.6856          23.7691   \n",
       "2017-12-19        20.6757              21.8378          31.3584   \n",
       "2018-12-19        21.5745              21.6062          31.8637   \n",
       "2019-12-19         26.616              30.2298          37.1856   \n",
       "2020-04-07         24.214              26.4304          34.4583   \n",
       "\n",
       "           American Express EV/EBITDA  \n",
       "Date                                   \n",
       "2014-12-19                    4.29476  \n",
       "2015-12-21                    3.64309  \n",
       "2016-12-19                    3.86977  \n",
       "2017-12-19                    4.10142  \n",
       "2018-12-19                    3.93259  \n",
       "2019-12-19                    4.28976  \n",
       "2020-04-07                    3.55743  "
      ]
     },
     "execution_count": 34,
     "metadata": {},
     "output_type": "execute_result"
    }
   ],
   "source": [
    "eb_ev"
   ]
  },
  {
   "cell_type": "code",
   "execution_count": 35,
   "metadata": {},
   "outputs": [],
   "source": [
    "eb_ev.to_excel('EBITDA-EV Over Time.xls')"
   ]
  },
  {
   "cell_type": "code",
   "execution_count": 37,
   "metadata": {},
   "outputs": [
    {
     "data": {
      "text/html": [
       "<iframe id=\"igraph\" scrolling=\"no\" style=\"border:none;\" seamless=\"seamless\" src=\"https://plot.ly/~Carlmasera/244.embed\" height=\"525px\" width=\"100%\"></iframe>"
      ],
      "text/plain": [
       "<plotly.tools.PlotlyDisplay object>"
      ]
     },
     "execution_count": 37,
     "metadata": {},
     "output_type": "execute_result"
    }
   ],
   "source": [
    "mc_mktc = go.Scatter(\n",
    "\tx=ratio_data.index,\n",
    "\ty=ratio_data['Mastercard Market Cap.'],\n",
    "\tname='Mastercard Market Cap.'\n",
    ")\n",
    "\n",
    "vs_mktc = go.Scatter(\n",
    "\tx=ratio_data.index,\n",
    "\ty=ratio_data['Visa Market Cap.'],\n",
    "\tname='VISA Market Cap.'\n",
    ")\n",
    "pypl_mktc = go.Scatter(\n",
    "\tx=ratio_data.index,\n",
    "\ty=ratio_data['PayPal Market Cap.'],\n",
    "\tname='PayPal Market Cap.'\n",
    ")\n",
    "ax_mktc = go.Scatter(\n",
    "\tx=ratio_data.index,\n",
    "\ty=ratio_data['American Express Market Cap.'],\n",
    "\tname='American Express Market Cap.'\n",
    ")\n",
    "\n",
    "data = [mc_mktc, vs_mktc, pypl_mktc, ax_mktc]\n",
    "layout = go.Layout(\n",
    "    title=\"<i>VISA, Mastercard, PayPal, American Express Market Capitalization</i> <br><b>Over Time (2010-2019)</b> \",\n",
    "    yaxis=dict(\n",
    "        title='in billion USD'\n",
    "    ),\n",
    ")\n",
    "\n",
    "fig_bs = go.Figure(data=data, layout=layout)\n",
    "py.iplot(fig_bs)"
   ]
  },
  {
   "cell_type": "code",
   "execution_count": 53,
   "metadata": {},
   "outputs": [
    {
     "data": {
      "text/html": [
       "<iframe id=\"igraph\" scrolling=\"no\" style=\"border:none;\" seamless=\"seamless\" src=\"https://plot.ly/~Carlmasera/272.embed\" height=\"525px\" width=\"100%\"></iframe>"
      ],
      "text/plain": [
       "<plotly.tools.PlotlyDisplay object>"
      ]
     },
     "execution_count": 53,
     "metadata": {},
     "output_type": "execute_result"
    }
   ],
   "source": [
    "mc_etv = go.Scatter(\n",
    "\tx=ev_data.index,\n",
    "\ty=ev_data['Mastercard Enterprise Value'],\n",
    "\tname='Mastercard Enterprise Value'\n",
    ")\n",
    "\n",
    "vs_etv = go.Scatter(\n",
    "\tx=ev_data.index,\n",
    "\ty=ev_data['Visa Enterprise Value'],\n",
    "\tname='VISA Enterprise Value'\n",
    ")\n",
    "pypl_etv = go.Scatter(\n",
    "\tx=ev_data.index,\n",
    "\ty=ev_data['PayPal Enterprise Value'],\n",
    "\tname='PayPal Enterprise Value'\n",
    ")\n",
    "ax_etv = go.Scatter(\n",
    "\tx=ev_data.index,\n",
    "\ty=ev_data['American Express Enterprise Value'],\n",
    "\tname='American Express Enterprise Value'\n",
    ")\n",
    "\n",
    "data = [mc_etv, vs_etv, pypl_etv, ax_etv]\n",
    "layout = go.Layout(\n",
    "    title=\"<i>VISA, Mastercard, PayPal, American Express Enterprise Value</i> <br><b>Over Time (2014-2019)</b> \",\n",
    "    yaxis=dict(\n",
    "        title='in billion USD'\n",
    "    ),\n",
    ")\n",
    "\n",
    "fig_bs = go.Figure(data=data, layout=layout)\n",
    "py.iplot(fig_bs)"
   ]
  },
  {
   "cell_type": "code",
   "execution_count": 54,
   "metadata": {},
   "outputs": [
    {
     "data": {
      "text/html": [
       "<iframe id=\"igraph\" scrolling=\"no\" style=\"border:none;\" seamless=\"seamless\" src=\"https://plot.ly/~Carlmasera/274.embed\" height=\"525px\" width=\"100%\"></iframe>"
      ],
      "text/plain": [
       "<plotly.tools.PlotlyDisplay object>"
      ]
     },
     "execution_count": 54,
     "metadata": {},
     "output_type": "execute_result"
    }
   ],
   "source": [
    "mc_ebd = go.Scatter(\n",
    "\tx=eb_ev.index,\n",
    "\ty=eb_ev['Mastercard EV/EBITDA'],\n",
    "\tname='Mastercard EV/EBITDA'\n",
    ")\n",
    "\n",
    "vs_ebd = go.Scatter(\n",
    "\tx=eb_ev.index,\n",
    "\ty=eb_ev['Visa EV/EBITDA'],\n",
    "\tname='VISA EV/EBITDA'\n",
    ")\n",
    "pypl_ebd = go.Scatter(\n",
    "\tx=eb_ev.index,\n",
    "\ty=eb_ev['PayPal EV/EBITDA'],\n",
    "\tname='PayPal EV/EBITDA'\n",
    ")\n",
    "ax_ebd = go.Scatter(\n",
    "\tx=eb_ev.index,\n",
    "\ty=eb_ev['American Express EV/EBITDA'],\n",
    "\tname='American Express EV/EBITDA'\n",
    ")\n",
    "\n",
    "data = [mc_ebd, vs_ebd, pypl_ebd, ax_ebd]\n",
    "layout = go.Layout(\n",
    "    title=\"<i>VISA, Mastercard, PayPal, American Express EV/EBITDA</i> <br><b>Over Time (2014-2019)</b> \",\n",
    "    yaxis=dict(\n",
    "        title='EV/EBITDA Ratio'\n",
    "    ),\n",
    ")\n",
    "\n",
    "fig_bs = go.Figure(data=data, layout=layout)\n",
    "py.iplot(fig_bs)"
   ]
  },
  {
   "cell_type": "code",
   "execution_count": 51,
   "metadata": {},
   "outputs": [
    {
     "data": {
      "text/plain": [
       "1.0"
      ]
     },
     "execution_count": 51,
     "metadata": {},
     "output_type": "execute_result"
    }
   ],
   "source": [
    "df['PayPal Stock Price']['2014-12-22']"
   ]
  }
 ],
 "metadata": {
  "kernelspec": {
   "display_name": "Python 3",
   "language": "python",
   "name": "python3"
  },
  "language_info": {
   "codemirror_mode": {
    "name": "ipython",
    "version": 3
   },
   "file_extension": ".py",
   "mimetype": "text/x-python",
   "name": "python",
   "nbconvert_exporter": "python",
   "pygments_lexer": "ipython3",
   "version": "3.7.4"
  }
 },
 "nbformat": 4,
 "nbformat_minor": 2
}
